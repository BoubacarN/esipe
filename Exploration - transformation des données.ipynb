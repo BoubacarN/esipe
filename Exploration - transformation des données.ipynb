{
 "cells": [
  {
   "cell_type": "code",
   "execution_count": 8,
   "metadata": {},
   "outputs": [],
   "source": [
    "%matplotlib inline\n",
    "import numpy as np\n",
    "import matplotlib\n",
    "import matplotlib.pyplot as plt\n",
    "import pandas as pd\n",
    "\n",
    "from sklearn.preprocessing import LabelBinarizer, StandardScaler"
   ]
  },
  {
   "cell_type": "markdown",
   "metadata": {},
   "source": [
    "# Example d'observation des données"
   ]
  },
  {
   "cell_type": "markdown",
   "metadata": {},
   "source": [
    "### Generation d'un dataset synthétique"
   ]
  },
  {
   "cell_type": "code",
   "execution_count": 40,
   "metadata": {},
   "outputs": [],
   "source": [
    "from sklearn.datasets import make_classification\n",
    "X, y = make_classification(n_features=5)\n",
    "features = pd.DataFrame(X)"
   ]
  },
  {
   "cell_type": "code",
   "execution_count": 41,
   "metadata": {},
   "outputs": [
    {
     "data": {
      "text/html": [
       "<div>\n",
       "<style scoped>\n",
       "    .dataframe tbody tr th:only-of-type {\n",
       "        vertical-align: middle;\n",
       "    }\n",
       "\n",
       "    .dataframe tbody tr th {\n",
       "        vertical-align: top;\n",
       "    }\n",
       "\n",
       "    .dataframe thead th {\n",
       "        text-align: right;\n",
       "    }\n",
       "</style>\n",
       "<table border=\"1\" class=\"dataframe\">\n",
       "  <thead>\n",
       "    <tr style=\"text-align: right;\">\n",
       "      <th></th>\n",
       "      <th>0</th>\n",
       "      <th>1</th>\n",
       "      <th>2</th>\n",
       "      <th>3</th>\n",
       "      <th>4</th>\n",
       "    </tr>\n",
       "  </thead>\n",
       "  <tbody>\n",
       "    <tr>\n",
       "      <th>count</th>\n",
       "      <td>100.000000</td>\n",
       "      <td>100.000000</td>\n",
       "      <td>100.000000</td>\n",
       "      <td>100.000000</td>\n",
       "      <td>100.000000</td>\n",
       "    </tr>\n",
       "    <tr>\n",
       "      <th>mean</th>\n",
       "      <td>-0.197781</td>\n",
       "      <td>0.066808</td>\n",
       "      <td>0.199044</td>\n",
       "      <td>0.141187</td>\n",
       "      <td>0.037360</td>\n",
       "    </tr>\n",
       "    <tr>\n",
       "      <th>std</th>\n",
       "      <td>1.516109</td>\n",
       "      <td>0.804528</td>\n",
       "      <td>1.492412</td>\n",
       "      <td>1.019246</td>\n",
       "      <td>1.239515</td>\n",
       "    </tr>\n",
       "    <tr>\n",
       "      <th>min</th>\n",
       "      <td>-3.569727</td>\n",
       "      <td>-1.585826</td>\n",
       "      <td>-3.283953</td>\n",
       "      <td>-2.931965</td>\n",
       "      <td>-3.032228</td>\n",
       "    </tr>\n",
       "    <tr>\n",
       "      <th>25%</th>\n",
       "      <td>-1.363002</td>\n",
       "      <td>-0.534405</td>\n",
       "      <td>-0.877601</td>\n",
       "      <td>-0.431852</td>\n",
       "      <td>-0.896885</td>\n",
       "    </tr>\n",
       "    <tr>\n",
       "      <th>50%</th>\n",
       "      <td>-0.228912</td>\n",
       "      <td>0.027955</td>\n",
       "      <td>0.355210</td>\n",
       "      <td>0.249126</td>\n",
       "      <td>0.082802</td>\n",
       "    </tr>\n",
       "    <tr>\n",
       "      <th>75%</th>\n",
       "      <td>1.024268</td>\n",
       "      <td>0.747099</td>\n",
       "      <td>1.271333</td>\n",
       "      <td>0.869783</td>\n",
       "      <td>0.987795</td>\n",
       "    </tr>\n",
       "    <tr>\n",
       "      <th>max</th>\n",
       "      <td>2.767355</td>\n",
       "      <td>2.285841</td>\n",
       "      <td>3.029214</td>\n",
       "      <td>2.792190</td>\n",
       "      <td>2.257375</td>\n",
       "    </tr>\n",
       "  </tbody>\n",
       "</table>\n",
       "</div>"
      ],
      "text/plain": [
       "                0           1           2           3           4\n",
       "count  100.000000  100.000000  100.000000  100.000000  100.000000\n",
       "mean    -0.197781    0.066808    0.199044    0.141187    0.037360\n",
       "std      1.516109    0.804528    1.492412    1.019246    1.239515\n",
       "min     -3.569727   -1.585826   -3.283953   -2.931965   -3.032228\n",
       "25%     -1.363002   -0.534405   -0.877601   -0.431852   -0.896885\n",
       "50%     -0.228912    0.027955    0.355210    0.249126    0.082802\n",
       "75%      1.024268    0.747099    1.271333    0.869783    0.987795\n",
       "max      2.767355    2.285841    3.029214    2.792190    2.257375"
      ]
     },
     "execution_count": 41,
     "metadata": {},
     "output_type": "execute_result"
    }
   ],
   "source": [
    "features.describe()"
   ]
  },
  {
   "cell_type": "code",
   "execution_count": 42,
   "metadata": {},
   "outputs": [
    {
     "data": {
      "text/plain": [
       "<matplotlib.axes._subplots.AxesSubplot at 0x115790400>"
      ]
     },
     "execution_count": 42,
     "metadata": {},
     "output_type": "execute_result"
    },
    {
     "data": {
      "image/png": "[encoded data removed]",
      "text/plain": [
       "<Figure size 432x288 with 1 Axes>"
      ]
     },
     "metadata": {},
     "output_type": "display_data"
    }
   ],
   "source": [
    "features.boxplot()"
   ]
  },
  {
   "cell_type": "code",
   "execution_count": 43,
   "metadata": {},
   "outputs": [
    {
     "data": {
      "text/plain": [
       "array([[<matplotlib.axes._subplots.AxesSubplot object at 0x115830be0>,\n",
       "        <matplotlib.axes._subplots.AxesSubplot object at 0x1158d3a90>],\n",
       "       [<matplotlib.axes._subplots.AxesSubplot object at 0x115843da0>,\n",
       "        <matplotlib.axes._subplots.AxesSubplot object at 0x11594c0f0>],\n",
       "       [<matplotlib.axes._subplots.AxesSubplot object at 0x115976400>,\n",
       "        <matplotlib.axes._subplots.AxesSubplot object at 0x115976438>]],\n",
       "      dtype=object)"
      ]
     },
     "execution_count": 43,
     "metadata": {},
     "output_type": "execute_result"
    },
    {
     "data": {
      "image/png": "[encoded data removed]",
      "text/plain": [
       "<Figure size 432x288 with 6 Axes>"
      ]
     },
     "metadata": {},
     "output_type": "display_data"
    }
   ],
   "source": [
    "features.hist()"
   ]
  },
  {
   "cell_type": "markdown",
   "metadata": {},
   "source": [
    "# Exemple de dummyfication : string -> colonne de 0/1"
   ]
  },
  {
   "cell_type": "code",
   "execution_count": 37,
   "metadata": {},
   "outputs": [
    {
     "name": "stdout",
     "output_type": "stream",
     "text": [
      "      meteo\n",
      "0  pluvieux\n",
      "1    dégagé\n",
      "2    dégagé\n",
      "3  pluvieux\n",
      "4   nuageux\n",
      "5   nuageux\n",
      "6    dégagé\n"
     ]
    }
   ],
   "source": [
    "df = pd.DataFrame({\n",
    "    'meteo':['pluvieux',\n",
    "             'dégagé',\n",
    "             'dégagé',\n",
    "             'pluvieux',\n",
    "             'nuageux',\n",
    "             'nuageux',\n",
    "             'dégagé'\n",
    "            ]\n",
    "})\n",
    "\n",
    "print(df)"
   ]
  },
  {
   "cell_type": "code",
   "execution_count": 38,
   "metadata": {},
   "outputs": [],
   "source": [
    "encoder      = LabelBinarizer()\n",
    "encoded_data = encoder.fit_transform(df)"
   ]
  },
  {
   "cell_type": "code",
   "execution_count": 39,
   "metadata": {},
   "outputs": [
    {
     "data": {
      "text/plain": [
       "array([[0, 0, 1],\n",
       "       [1, 0, 0],\n",
       "       [1, 0, 0],\n",
       "       [0, 0, 1],\n",
       "       [0, 1, 0],\n",
       "       [0, 1, 0],\n",
       "       [1, 0, 0]])"
      ]
     },
     "execution_count": 39,
     "metadata": {},
     "output_type": "execute_result"
    }
   ],
   "source": [
    "encoded_data"
   ]
  },
  {
   "cell_type": "markdown",
   "metadata": {},
   "source": [
    "# Exemple de standardisation"
   ]
  },
  {
   "cell_type": "code",
   "execution_count": 48,
   "metadata": {},
   "outputs": [],
   "source": [
    "scaler = StandardScaler()\n",
    "features_scaled = pd.DataFrame(scaler.fit_transform(features))"
   ]
  },
  {
   "cell_type": "code",
   "execution_count": 49,
   "metadata": {},
   "outputs": [
    {
     "data": {
      "text/plain": [
       "array([[<matplotlib.axes._subplots.AxesSubplot object at 0x115f039e8>,\n",
       "        <matplotlib.axes._subplots.AxesSubplot object at 0x115f30438>],\n",
       "       [<matplotlib.axes._subplots.AxesSubplot object at 0x115e5ca90>,\n",
       "        <matplotlib.axes._subplots.AxesSubplot object at 0x115e8e160>],\n",
       "       [<matplotlib.axes._subplots.AxesSubplot object at 0x115fcf7f0>,\n",
       "        <matplotlib.axes._subplots.AxesSubplot object at 0x115fcf828>]],\n",
       "      dtype=object)"
      ]
     },
     "execution_count": 49,
     "metadata": {},
     "output_type": "execute_result"
    },
    {
     "data": {
      "image/png": "[encoded data removed]",
      "text/plain": [
       "<Figure size 432x288 with 6 Axes>"
      ]
     },
     "metadata": {},
     "output_type": "display_data"
    }
   ],
   "source": [
    "features_scaled.hist()"
   ]
  },
  {
   "cell_type": "code",
   "execution_count": 51,
   "metadata": {},
   "outputs": [
    {
     "data": {
      "text/plain": [
       "<matplotlib.axes._subplots.AxesSubplot at 0x116187ba8>"
      ]
     },
     "execution_count": 51,
     "metadata": {},
     "output_type": "execute_result"
    },
    {
     "data": {
      "image/png": "[encoded data removed]",
      "text/plain": [
       "<Figure size 432x288 with 1 Axes>"
      ]
     },
     "metadata": {},
     "output_type": "display_data"
    }
   ],
   "source": [
    "features_scaled.boxplot()"
   ]
  },
  {
   "cell_type": "code",
   "execution_count": null,
   "metadata": {},
   "outputs": [],
   "source": []
  }
 ],
 "metadata": {
  "kernelspec": {
   "display_name": "Python 3",
   "language": "python",
   "name": "python3"
  },
  "language_info": {
   "codemirror_mode": {
    "name": "ipython",
    "version": 3
   },
   "file_extension": ".py",
   "mimetype": "text/x-python",
   "name": "python",
   "nbconvert_exporter": "python",
   "pygments_lexer": "ipython3",
   "version": "3.6.2"
  }
 },
 "nbformat": 4,
 "nbformat_minor": 2
}
